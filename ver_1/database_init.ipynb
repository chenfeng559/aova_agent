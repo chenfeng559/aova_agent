{
 "cells": [
  {
   "cell_type": "code",
   "execution_count": 14,
   "metadata": {},
   "outputs": [
    {
     "data": {
      "text/plain": [
       "<sqlite3.Cursor at 0x2808ab5f0c0>"
      ]
     },
     "execution_count": 14,
     "metadata": {},
     "output_type": "execute_result"
    }
   ],
   "source": [
    "import sqlite3\n",
    "conn = sqlite3.connect('ko.db')\n",
    "\n",
    "c = conn.cursor()\n",
    "# 创建表\n",
    "c.execute('''\n",
    "CREATE TABLE IF NOT EXISTS ko (\n",
    "    id INTEGER PRIMARY KEY AUTOINCREMENT,\n",
    "    start_time TEXT default (strftime('%Y-%m-%d %H:%M:%S', 'now', 'localtime')) NOT NULL,\n",
    "    end_time TEXT default  (strftime('%Y-%m-%d %H:%M:%S', 'now', 'localtime')) ,\n",
    "    location TEXT,\n",
    "    description TEXT default  '' NOT NULL,\n",
    "    participants TEXT\n",
    ");\n",
    "''')\n",
    "\n",
    "# 插入数据 进行初始化"
   ]
  },
  {
   "cell_type": "code",
   "execution_count": 15,
   "metadata": {},
   "outputs": [],
   "source": [
    "sql1 = \"\"\"INSERT INTO ko (start_time, end_time, location, description, participants) VALUES\n",
    "('2024-06-10 15:00:00', '2024-06-10 17:00:00', '华南师范大学', '与导师讨论毕业论文', '张三, 李四');\"\"\"\n",
    "\n",
    "sql2 = \"\"\"INSERT INTO ko (start_time, end_time, location, description, participants) VALUES\n",
    "('2024-06-11 09:30:00', '2024-06-11 12:00:00', '深圳会展中心', '参加技术研讨会', '王五');\"\"\"\n",
    "\n",
    "sql3 = \"\"\"INSERT INTO ko (start_time, end_time, location, description, participants) VALUES\n",
    "('2024-06-12 14:00:00', '2024-06-12 17:00:00', NULL, '图书馆自习', NULL);\"\"\"\n",
    "\n",
    "sql4 = \"\"\"INSERT INTO ko (start_time, end_time, location, description, participants) VALUES\n",
    "('2024-06-13 10:00:00', '2024-06-13 12:00:00', '广州体育馆', '篮球比赛', '赵六, 孙七, 周八');\"\"\""
   ]
  },
  {
   "cell_type": "code",
   "execution_count": 16,
   "metadata": {},
   "outputs": [],
   "source": [
    "c.execute(sql1)\n",
    "c.execute(sql2)\n",
    "\n",
    "\n",
    "conn.commit()\n",
    "conn.close()"
   ]
  }
 ],
 "metadata": {
  "kernelspec": {
   "display_name": "AIchat",
   "language": "python",
   "name": "python3"
  },
  "language_info": {
   "codemirror_mode": {
    "name": "ipython",
    "version": 3
   },
   "file_extension": ".py",
   "mimetype": "text/x-python",
   "name": "python",
   "nbconvert_exporter": "python",
   "pygments_lexer": "ipython3",
   "version": "3.11.7"
  }
 },
 "nbformat": 4,
 "nbformat_minor": 2
}
